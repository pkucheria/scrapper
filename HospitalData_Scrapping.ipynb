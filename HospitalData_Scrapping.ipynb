{
 "cells": [
  {
   "cell_type": "code",
   "execution_count": 777,
   "metadata": {
    "collapsed": false
   },
   "outputs": [],
   "source": [
    "# Python Code for scrapping Hospital data from 'http://sais.health.pa.gov/commonpoc/dohqalocatorcommon.asp'\n",
    "# Using BeautifulSoup Library\n",
    "from bs4 import BeautifulSoup\n",
    "import urllib\n",
    "\n",
    "# Copy the required county URL from the above link\n",
    "r = urllib.urlopen('http://sais.health.pa.gov/commonpoc/content/publiccommonpoc/commonpocselect.asp?FORMSUBMITTED=normalSearch&selcty=Allegheny').read()\n",
    "soup = BeautifulSoup(r)\n",
    "import pandas as pd\n",
    "import re"
   ]
  },
  {
   "cell_type": "code",
   "execution_count": 778,
   "metadata": {
    "collapsed": false
   },
   "outputs": [],
   "source": [
    "# Getting Hospital data in from table 1 of soup object\n",
    "table = soup.find_all('table')[1]\n",
    "# Getting county name from header in table 0\n",
    "countyinfo=soup.find_all('table')[0]\n",
    "countyname=str(countyinfo.find_all('strong')[6].next.next.strip())\n"
   ]
  },
  {
   "cell_type": "code",
   "execution_count": 779,
   "metadata": {
    "collapsed": false
   },
   "outputs": [],
   "source": [
    "#Getting Rows \n",
    "rows = table.find_all('tr')\n"
   ]
  },
  {
   "cell_type": "code",
   "execution_count": 780,
   "metadata": {
    "collapsed": false
   },
   "outputs": [],
   "source": [
    "#Creating a dictionary to store data\n",
    "data = {\n",
    "    'Name' : [],\n",
    "    'Type_Facility' : [],\n",
    "    'Status' : [],\n",
    "    'Address' : [],\n",
    "    'city_state_zip' : [],\n",
    "    'Patient_Survey_Link' : [],\n",
    "    'Building_Survey_Link' :[],\n",
    "    'County':[]\n",
    "}\n",
    "# Creating prefix link for Patient Survey Link and Building survey Link\n",
    "prefix=\"http://sais.health.pa.gov/commonpoc/content/publiccommonpoc/\""
   ]
  },
  {
   "cell_type": "code",
   "execution_count": null,
   "metadata": {
    "collapsed": false
   },
   "outputs": [],
   "source": []
  },
  {
   "cell_type": "code",
   "execution_count": 781,
   "metadata": {
    "collapsed": false
   },
   "outputs": [],
   "source": [
    "# For loop to append data in dictionary \n",
    "# find_all() to fetch the required value\n",
    "\n",
    "for row in rows:\n",
    "    data['Name'].append( row.find_all('b')[0].next )\n",
    "    data['Type_Facility'].append( row.find_all('b')[1].next.next )\n",
    "    data['Status'].append( row.find_all('b')[2].next.next )\n",
    "    data['Address'].append( row.find_all('b')[2].next.next.next.next )\n",
    "    data['city_state_zip'].append( row.find_all('b')[2].next.next.next.next.next.next )\n",
    "    data['County'].append( countyname )\n",
    "    link = row.find_all(href=True)\n",
    "    \n",
    "# Fetching links for Patient Suvery Data and Building Survey Data\n",
    "# Check if link exist for Patient Survey data\n",
    "    check=re.search('QAsurvey',str(row.find_all('a')))\n",
    "    if check<>None:\n",
    "        data['Patient_Survey_Link'].append( prefix+link[0]['href'] )\n",
    "# If link is not present, append comments\n",
    "    else:\n",
    "        data['Patient_Survey_Link'].append( 'No Available Health Surveys' )\n",
    "#Check if link exist for Building Survey data        \n",
    "    check2=re.search('Building',str(row.find_all('strong')))\n",
    "    \n",
    "    if check2==None:\n",
    "        data['Building_Survey_Link'].append( prefix+link[1]['href']) \n",
    "# If link is not present, append comments\n",
    "    else:\n",
    "        data['Building_Survey_Link'].append( 'Building Safety surveys are not required for this facility' )"
   ]
  },
  {
   "cell_type": "code",
   "execution_count": 782,
   "metadata": {
    "collapsed": false
   },
   "outputs": [],
   "source": [
    "# Creating a data frame data dictionary\n",
    "HospitalData = pd.DataFrame( data )\n",
    "#Exporting dataframe as csv with countyname prefixed\n",
    "HospitalData.to_csv(countyname+\"_HospitalData.csv\",columns=[\"Name\",\"Type_Facility\",\"Status\",\"Address\",\"city_state_zip\",\"County\",\"Patient_Survey_Link\",\"Building_Survey_Link\"])"
   ]
  },
  {
   "cell_type": "code",
   "execution_count": 775,
   "metadata": {
    "collapsed": false
   },
   "outputs": [],
   "source": []
  },
  {
   "cell_type": "code",
   "execution_count": null,
   "metadata": {
    "collapsed": false
   },
   "outputs": [],
   "source": []
  },
  {
   "cell_type": "code",
   "execution_count": null,
   "metadata": {
    "collapsed": false
   },
   "outputs": [],
   "source": [
    "\n",
    "\n"
   ]
  },
  {
   "cell_type": "code",
   "execution_count": null,
   "metadata": {
    "collapsed": false
   },
   "outputs": [],
   "source": [
    "\n",
    "    "
   ]
  },
  {
   "cell_type": "code",
   "execution_count": null,
   "metadata": {
    "collapsed": false
   },
   "outputs": [],
   "source": []
  },
  {
   "cell_type": "code",
   "execution_count": null,
   "metadata": {
    "collapsed": false
   },
   "outputs": [],
   "source": [
    "\n"
   ]
  },
  {
   "cell_type": "code",
   "execution_count": null,
   "metadata": {
    "collapsed": true
   },
   "outputs": [],
   "source": []
  }
 ],
 "metadata": {
  "kernelspec": {
   "display_name": "Python 2",
   "language": "python",
   "name": "python2"
  },
  "language_info": {
   "codemirror_mode": {
    "name": "ipython",
    "version": 2
   },
   "file_extension": ".py",
   "mimetype": "text/x-python",
   "name": "python",
   "nbconvert_exporter": "python",
   "pygments_lexer": "ipython2",
   "version": "2.7.11"
  }
 },
 "nbformat": 4,
 "nbformat_minor": 0
}
